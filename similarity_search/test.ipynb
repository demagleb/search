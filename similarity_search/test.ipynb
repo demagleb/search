{
 "cells": [
  {
   "cell_type": "code",
   "execution_count": 1,
   "metadata": {},
   "outputs": [
    {
     "name": "stderr",
     "output_type": "stream",
     "text": [
      "/home/demkog/.local/lib/python3.10/site-packages/tqdm/auto.py:21: TqdmWarning: IProgress not found. Please update jupyter and ipywidgets. See https://ipywidgets.readthedocs.io/en/stable/user_install.html\n",
      "  from .autonotebook import tqdm as notebook_tqdm\n"
     ]
    },
    {
     "name": "stdout",
     "output_type": "stream",
     "text": [
      "(1, 768)\n"
     ]
    }
   ],
   "source": [
    "from index import SimularitySearchIndex\n",
    "from datasets import load_dataset"
   ]
  },
  {
   "cell_type": "code",
   "execution_count": 3,
   "metadata": {},
   "outputs": [],
   "source": [
    "def get_texts():\n",
    "    ds = load_dataset(\"SetFit/bbc-news\")\n",
    "    texts = {}\n",
    "    id = 0\n",
    "    for row in ds[\"train\"]:\n",
    "        texts[id] = row[\"text\"]\n",
    "        id += 1\n",
    "    for row in ds[\"test\"]:\n",
    "        texts[id] = row[\"text\"]\n",
    "        id += 1\n",
    "    return texts\n",
    "\n",
    "texts = get_texts()"
   ]
  },
  {
   "cell_type": "code",
   "execution_count": 4,
   "metadata": {},
   "outputs": [],
   "source": [
    "index = SimularitySearchIndex(texts)"
   ]
  },
  {
   "cell_type": "code",
   "execution_count": 5,
   "metadata": {},
   "outputs": [],
   "source": [
    "import textwrap\n",
    "\n",
    "def search(text, n=1):\n",
    "    res = index.search(text, n)\n",
    "\n",
    "    for pos in res[0]:\n",
    "        print(textwrap.fill(texts[pos], width=50))\n",
    "        print(\"_\" * 50)"
   ]
  },
  {
   "cell_type": "code",
   "execution_count": 18,
   "metadata": {},
   "outputs": [
    {
     "name": "stdout",
     "output_type": "stream",
     "text": [
      "russia gets investment blessing soaring oil sales\n",
      "and a budget surplus mean russian debt is no\n",
      "longer a risky investment  one of the world s\n",
      "leading credit rating agencies says.  standard &\n",
      "poor s has classed russian bonds as  investment\n",
      "grade   up from their former  speculative  rating.\n",
      "russia s reputation among investors has been hurt\n",
      "in recent months by the heavy tax bills and asset\n",
      "seizures imposed on companies such as oil giant\n",
      "yukos. s&p said the solidity of government\n",
      "finances outweighed the risk. russia is now a net\n",
      "creditor rather than a debtor. gold and foreign\n",
      "currency reserves of $119bn beat its foreign\n",
      "public debt of some $113bn.  the other two major\n",
      "ratings agencies - fitch and moody s have long\n",
      "since upped their rating of russia s sovereign\n",
      "debt. s&p had held back through fear that the\n",
      "government was dragging its feet on economic and\n",
      "legal reforms. now  though  it has finally\n",
      "followed suit. but the agency made it clear that\n",
      "the improved rating did not mean that the risks\n",
      "were a thing of the past. instead  with russian\n",
      "government coffers brimming with tax revenues from\n",
      "energy sales  s&p said the government s own debt\n",
      "is looking a good bet.  these improvements are so\n",
      "significant that they now outweight the serious\n",
      "and growing political risk that continues to be a\n",
      "key ratings constraint on russia   wrote s&p\n",
      "credit analyst helena hessel.  the yukos saga is\n",
      "the most high-profile of the political risks to\n",
      "which ms hessel alludes. the company s founder and\n",
      "ex-chief executive  mikhail khodorkovsky  is in\n",
      "jail on trial for tax evasion and fraud. many\n",
      "believe the real motive for his prosecution is\n",
      "that he threatened to use his wealth to set up a\n",
      "political alternative to president vladimir putin.\n",
      "his company  meanwhile  is widely believed to have\n",
      "fallen victim to the kremlin s wish to get russian\n",
      "energy resources as far as possible back under\n",
      "state control.\n",
      "__________________________________________________\n"
     ]
    }
   ],
   "source": [
    "search(\"russia stocks\", 1)"
   ]
  },
  {
   "cell_type": "code",
   "execution_count": null,
   "metadata": {},
   "outputs": [],
   "source": []
  }
 ],
 "metadata": {
  "kernelspec": {
   "display_name": "Python 3",
   "language": "python",
   "name": "python3"
  },
  "language_info": {
   "codemirror_mode": {
    "name": "ipython",
    "version": 3
   },
   "file_extension": ".py",
   "mimetype": "text/x-python",
   "name": "python",
   "nbconvert_exporter": "python",
   "pygments_lexer": "ipython3",
   "version": "3.10.12"
  }
 },
 "nbformat": 4,
 "nbformat_minor": 2
}
